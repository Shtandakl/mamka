{
 "cells": [
  {
   "cell_type": "code",
   "execution_count": 1,
   "id": "94be8e35",
   "metadata": {},
   "outputs": [],
   "source": [
    "import numpy as np"
   ]
  },
  {
   "cell_type": "code",
   "execution_count": 2,
   "id": "26781a8b",
   "metadata": {},
   "outputs": [],
   "source": [
    "from random import randint"
   ]
  },
  {
   "cell_type": "code",
   "execution_count": 9,
   "id": "f5d6cac5",
   "metadata": {},
   "outputs": [
    {
     "name": "stdout",
     "output_type": "stream",
     "text": [
      "Введите число n > 2 = 4\n",
      "[[ 1.  1.  1.  1.]\n",
      " [ 1.  1.  1.  1.]\n",
      " [ 1.  1.  1.  1.]\n",
      " [-1.  1.  1.  1.]]\n",
      "[[ 1.  1.  1.  1.]\n",
      " [ 1. -1.  1.  1.]\n",
      " [ 1. -1.  1.  1.]\n",
      " [-1.  1.  1.  1.]]\n",
      "[[ 1.  1.  1.  1.]\n",
      " [ 1. -1.  1.  1.]\n",
      " [ 1. -1.  1.  1.]\n",
      " [-1.  1. -1.  1.]]\n",
      "[[ 1.  1.  1.  1.]\n",
      " [ 1. -1.  1.  1.]\n",
      " [ 1. -1.  1. -1.]\n",
      " [-1.  1. -1. -1.]]\n"
     ]
    },
    {
     "data": {
      "text/plain": [
       "10.0"
      ]
     },
     "execution_count": 9,
     "metadata": {},
     "output_type": "execute_result"
    }
   ],
   "source": [
    "on =[1,-1]\n",
    "n = int(input('Введите число n > 2 = '))\n",
    "if n<=2:n = 0;\n",
    "if n<2:print ('Error, please write n > 2')\n",
    "mas = np.ones((n,n))\n",
    "for i in range(n):\n",
    "    for j in range(n):\n",
    "        mas[j,i] = on[randint(0,1)]\n",
    "    print(mas)\n",
    "sum = 0 \n",
    "for j in range(n):\n",
    "    for k in range(n):\n",
    "        if(j-1)>= 0:\n",
    "            sum += mas[j,k] * mas[j-1,k]\n",
    "    for j in range(n):\n",
    "        if(k-1)>= 0:\n",
    "            sum += mas[j,k] * mas[j,k-1]\n",
    "sum"
   ]
  },
  {
   "cell_type": "code",
   "execution_count": null,
   "id": "6f7f0b2b",
   "metadata": {},
   "outputs": [],
   "source": []
  }
 ],
 "metadata": {
  "kernelspec": {
   "display_name": "Python 3",
   "language": "python",
   "name": "python3"
  },
  "language_info": {
   "codemirror_mode": {
    "name": "ipython",
    "version": 3
   },
   "file_extension": ".py",
   "mimetype": "text/x-python",
   "name": "python",
   "nbconvert_exporter": "python",
   "pygments_lexer": "ipython3",
   "version": "3.8.8"
  }
 },
 "nbformat": 4,
 "nbformat_minor": 5
}
